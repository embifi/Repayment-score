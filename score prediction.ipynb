{
 "cells": [
  {
   "cell_type": "code",
   "execution_count": 50,
   "id": "17c51d90",
   "metadata": {},
   "outputs": [],
   "source": [
    "import numpy as np\n",
    "import pandas as pd\n",
    "import seaborn as sns\n"
   ]
  },
  {
   "cell_type": "code",
   "execution_count": 59,
   "id": "f3d4d989",
   "metadata": {},
   "outputs": [],
   "source": [
    "df=pd.read_excel('sample_data_for_score (1).xlsx')"
   ]
  },
  {
   "cell_type": "code",
   "execution_count": 60,
   "id": "29149898",
   "metadata": {},
   "outputs": [
    {
     "data": {
      "text/html": [
       "<div>\n",
       "<style scoped>\n",
       "    .dataframe tbody tr th:only-of-type {\n",
       "        vertical-align: middle;\n",
       "    }\n",
       "\n",
       "    .dataframe tbody tr th {\n",
       "        vertical-align: top;\n",
       "    }\n",
       "\n",
       "    .dataframe thead th {\n",
       "        text-align: right;\n",
       "    }\n",
       "</style>\n",
       "<table border=\"1\" class=\"dataframe\">\n",
       "  <thead>\n",
       "    <tr style=\"text-align: right;\">\n",
       "      <th></th>\n",
       "      <th>CustomerID</th>\n",
       "      <th>Sum_Amt</th>\n",
       "      <th>Total amt</th>\n",
       "      <th>Time(weeks)</th>\n",
       "      <th>Amt_Paid(%)</th>\n",
       "      <th>Amt_paid/week(app.)</th>\n",
       "      <th>amt_paid/week(%)</th>\n",
       "      <th>avg_amt_paid</th>\n",
       "    </tr>\n",
       "  </thead>\n",
       "  <tbody>\n",
       "    <tr>\n",
       "      <th>0</th>\n",
       "      <td>2200</td>\n",
       "      <td>14864.00</td>\n",
       "      <td>90000.0</td>\n",
       "      <td>3.0</td>\n",
       "      <td>16.515556</td>\n",
       "      <td>825.776667</td>\n",
       "      <td>5.505185</td>\n",
       "      <td>2477.330</td>\n",
       "    </tr>\n",
       "    <tr>\n",
       "      <th>1</th>\n",
       "      <td>2218</td>\n",
       "      <td>5800.00</td>\n",
       "      <td>80000.0</td>\n",
       "      <td>2.0</td>\n",
       "      <td>7.250000</td>\n",
       "      <td>483.333500</td>\n",
       "      <td>3.625000</td>\n",
       "      <td>966.667</td>\n",
       "    </tr>\n",
       "    <tr>\n",
       "      <th>2</th>\n",
       "      <td>2251</td>\n",
       "      <td>15910.00</td>\n",
       "      <td>140000.0</td>\n",
       "      <td>6.0</td>\n",
       "      <td>11.364286</td>\n",
       "      <td>155.980333</td>\n",
       "      <td>1.894048</td>\n",
       "      <td>935.882</td>\n",
       "    </tr>\n",
       "    <tr>\n",
       "      <th>3</th>\n",
       "      <td>2262</td>\n",
       "      <td>16788.16</td>\n",
       "      <td>95000.0</td>\n",
       "      <td>7.0</td>\n",
       "      <td>17.671747</td>\n",
       "      <td>47.966143</td>\n",
       "      <td>2.524535</td>\n",
       "      <td>335.763</td>\n",
       "    </tr>\n",
       "    <tr>\n",
       "      <th>4</th>\n",
       "      <td>2263</td>\n",
       "      <td>13193.00</td>\n",
       "      <td>100000.0</td>\n",
       "      <td>6.0</td>\n",
       "      <td>13.193000</td>\n",
       "      <td>61.078667</td>\n",
       "      <td>2.198833</td>\n",
       "      <td>366.472</td>\n",
       "    </tr>\n",
       "  </tbody>\n",
       "</table>\n",
       "</div>"
      ],
      "text/plain": [
       "  CustomerID   Sum_Amt  Total amt  Time(weeks)  Amt_Paid(%)  \\\n",
       "0       2200  14864.00    90000.0          3.0    16.515556   \n",
       "1       2218   5800.00    80000.0          2.0     7.250000   \n",
       "2       2251  15910.00   140000.0          6.0    11.364286   \n",
       "3       2262  16788.16    95000.0          7.0    17.671747   \n",
       "4       2263  13193.00   100000.0          6.0    13.193000   \n",
       "\n",
       "   Amt_paid/week(app.)  amt_paid/week(%)  avg_amt_paid  \n",
       "0           825.776667          5.505185      2477.330  \n",
       "1           483.333500          3.625000       966.667  \n",
       "2           155.980333          1.894048       935.882  \n",
       "3            47.966143          2.524535       335.763  \n",
       "4            61.078667          2.198833       366.472  "
      ]
     },
     "execution_count": 60,
     "metadata": {},
     "output_type": "execute_result"
    }
   ],
   "source": [
    "df.head()"
   ]
  },
  {
   "cell_type": "code",
   "execution_count": 61,
   "id": "fb1c2917",
   "metadata": {},
   "outputs": [
    {
     "data": {
      "text/plain": [
       "(8, 8)"
      ]
     },
     "execution_count": 61,
     "metadata": {},
     "output_type": "execute_result"
    }
   ],
   "source": [
    "df.shape"
   ]
  },
  {
   "cell_type": "code",
   "execution_count": 57,
   "id": "12034e37",
   "metadata": {},
   "outputs": [
    {
     "data": {
      "text/plain": [
       "CustomerID              object\n",
       "Sum_Amt                float64\n",
       "Total amt              float64\n",
       "Time(weeks)            float64\n",
       "Amt_Paid(%)            float64\n",
       "Amt_paid/week(app.)    float64\n",
       "amt_paid/week(%)       float64\n",
       "avg_amt_paid           float64\n",
       "dtype: object"
      ]
     },
     "execution_count": 57,
     "metadata": {},
     "output_type": "execute_result"
    }
   ],
   "source": [
    "df.dtypes"
   ]
  },
  {
   "cell_type": "code",
   "execution_count": 15,
   "id": "e25c1f44",
   "metadata": {},
   "outputs": [
    {
     "data": {
      "text/html": [
       "<div>\n",
       "<style scoped>\n",
       "    .dataframe tbody tr th:only-of-type {\n",
       "        vertical-align: middle;\n",
       "    }\n",
       "\n",
       "    .dataframe tbody tr th {\n",
       "        vertical-align: top;\n",
       "    }\n",
       "\n",
       "    .dataframe thead th {\n",
       "        text-align: right;\n",
       "    }\n",
       "</style>\n",
       "<table border=\"1\" class=\"dataframe\">\n",
       "  <thead>\n",
       "    <tr style=\"text-align: right;\">\n",
       "      <th></th>\n",
       "      <th>Sum_Amt</th>\n",
       "      <th>Total amt</th>\n",
       "      <th>Time(weeks)</th>\n",
       "      <th>Amt_Paid(%)</th>\n",
       "      <th>Amt_paid/week(app.)</th>\n",
       "      <th>amt_paid/week(%)</th>\n",
       "      <th>avg_amt_paid</th>\n",
       "    </tr>\n",
       "  </thead>\n",
       "  <tbody>\n",
       "    <tr>\n",
       "      <th>0</th>\n",
       "      <td>14864.00</td>\n",
       "      <td>90000.0</td>\n",
       "      <td>3.0</td>\n",
       "      <td>16.515556</td>\n",
       "      <td>825.776667</td>\n",
       "      <td>5.505185</td>\n",
       "      <td>2477.330</td>\n",
       "    </tr>\n",
       "    <tr>\n",
       "      <th>1</th>\n",
       "      <td>5800.00</td>\n",
       "      <td>80000.0</td>\n",
       "      <td>2.0</td>\n",
       "      <td>7.250000</td>\n",
       "      <td>483.333500</td>\n",
       "      <td>3.625000</td>\n",
       "      <td>966.667</td>\n",
       "    </tr>\n",
       "    <tr>\n",
       "      <th>2</th>\n",
       "      <td>15910.00</td>\n",
       "      <td>140000.0</td>\n",
       "      <td>6.0</td>\n",
       "      <td>11.364286</td>\n",
       "      <td>155.980333</td>\n",
       "      <td>1.894048</td>\n",
       "      <td>935.882</td>\n",
       "    </tr>\n",
       "    <tr>\n",
       "      <th>3</th>\n",
       "      <td>16788.16</td>\n",
       "      <td>95000.0</td>\n",
       "      <td>7.0</td>\n",
       "      <td>17.671747</td>\n",
       "      <td>47.966143</td>\n",
       "      <td>2.524535</td>\n",
       "      <td>335.763</td>\n",
       "    </tr>\n",
       "    <tr>\n",
       "      <th>4</th>\n",
       "      <td>13193.00</td>\n",
       "      <td>100000.0</td>\n",
       "      <td>6.0</td>\n",
       "      <td>13.193000</td>\n",
       "      <td>61.078667</td>\n",
       "      <td>2.198833</td>\n",
       "      <td>366.472</td>\n",
       "    </tr>\n",
       "  </tbody>\n",
       "</table>\n",
       "</div>"
      ],
      "text/plain": [
       "    Sum_Amt  Total amt  Time(weeks)  Amt_Paid(%)  Amt_paid/week(app.)  \\\n",
       "0  14864.00    90000.0          3.0    16.515556           825.776667   \n",
       "1   5800.00    80000.0          2.0     7.250000           483.333500   \n",
       "2  15910.00   140000.0          6.0    11.364286           155.980333   \n",
       "3  16788.16    95000.0          7.0    17.671747            47.966143   \n",
       "4  13193.00   100000.0          6.0    13.193000            61.078667   \n",
       "\n",
       "   amt_paid/week(%)  avg_amt_paid  \n",
       "0          5.505185      2477.330  \n",
       "1          3.625000       966.667  \n",
       "2          1.894048       935.882  \n",
       "3          2.524535       335.763  \n",
       "4          2.198833       366.472  "
      ]
     },
     "execution_count": 15,
     "metadata": {},
     "output_type": "execute_result"
    }
   ],
   "source": [
    "df.head()"
   ]
  },
  {
   "cell_type": "code",
   "execution_count": 16,
   "id": "d745e8a3",
   "metadata": {},
   "outputs": [
    {
     "data": {
      "text/html": [
       "<div>\n",
       "<style scoped>\n",
       "    .dataframe tbody tr th:only-of-type {\n",
       "        vertical-align: middle;\n",
       "    }\n",
       "\n",
       "    .dataframe tbody tr th {\n",
       "        vertical-align: top;\n",
       "    }\n",
       "\n",
       "    .dataframe thead th {\n",
       "        text-align: right;\n",
       "    }\n",
       "</style>\n",
       "<table border=\"1\" class=\"dataframe\">\n",
       "  <thead>\n",
       "    <tr style=\"text-align: right;\">\n",
       "      <th></th>\n",
       "      <th>Sum_Amt</th>\n",
       "      <th>Total amt</th>\n",
       "      <th>Time(weeks)</th>\n",
       "      <th>Amt_Paid(%)</th>\n",
       "      <th>Amt_paid/week(app.)</th>\n",
       "      <th>amt_paid/week(%)</th>\n",
       "      <th>avg_amt_paid</th>\n",
       "    </tr>\n",
       "  </thead>\n",
       "  <tbody>\n",
       "    <tr>\n",
       "      <th>Sum_Amt</th>\n",
       "      <td>1.000000</td>\n",
       "      <td>0.599139</td>\n",
       "      <td>0.529687</td>\n",
       "      <td>0.771338</td>\n",
       "      <td>0.055664</td>\n",
       "      <td>-0.009214</td>\n",
       "      <td>0.163889</td>\n",
       "    </tr>\n",
       "    <tr>\n",
       "      <th>Total amt</th>\n",
       "      <td>0.599139</td>\n",
       "      <td>1.000000</td>\n",
       "      <td>0.192850</td>\n",
       "      <td>-0.045497</td>\n",
       "      <td>0.278391</td>\n",
       "      <td>-0.067935</td>\n",
       "      <td>0.335637</td>\n",
       "    </tr>\n",
       "    <tr>\n",
       "      <th>Time(weeks)</th>\n",
       "      <td>0.529687</td>\n",
       "      <td>0.192850</td>\n",
       "      <td>1.000000</td>\n",
       "      <td>0.502188</td>\n",
       "      <td>-0.729501</td>\n",
       "      <td>-0.819875</td>\n",
       "      <td>-0.705671</td>\n",
       "    </tr>\n",
       "    <tr>\n",
       "      <th>Amt_Paid(%)</th>\n",
       "      <td>0.771338</td>\n",
       "      <td>-0.045497</td>\n",
       "      <td>0.502188</td>\n",
       "      <td>1.000000</td>\n",
       "      <td>-0.146978</td>\n",
       "      <td>0.048942</td>\n",
       "      <td>-0.053641</td>\n",
       "    </tr>\n",
       "    <tr>\n",
       "      <th>Amt_paid/week(app.)</th>\n",
       "      <td>0.055664</td>\n",
       "      <td>0.278391</td>\n",
       "      <td>-0.729501</td>\n",
       "      <td>-0.146978</td>\n",
       "      <td>1.000000</td>\n",
       "      <td>0.862059</td>\n",
       "      <td>0.982120</td>\n",
       "    </tr>\n",
       "    <tr>\n",
       "      <th>amt_paid/week(%)</th>\n",
       "      <td>-0.009214</td>\n",
       "      <td>-0.067935</td>\n",
       "      <td>-0.819875</td>\n",
       "      <td>0.048942</td>\n",
       "      <td>0.862059</td>\n",
       "      <td>1.000000</td>\n",
       "      <td>0.891707</td>\n",
       "    </tr>\n",
       "    <tr>\n",
       "      <th>avg_amt_paid</th>\n",
       "      <td>0.163889</td>\n",
       "      <td>0.335637</td>\n",
       "      <td>-0.705671</td>\n",
       "      <td>-0.053641</td>\n",
       "      <td>0.982120</td>\n",
       "      <td>0.891707</td>\n",
       "      <td>1.000000</td>\n",
       "    </tr>\n",
       "  </tbody>\n",
       "</table>\n",
       "</div>"
      ],
      "text/plain": [
       "                      Sum_Amt  Total amt  Time(weeks)  Amt_Paid(%)  \\\n",
       "Sum_Amt              1.000000   0.599139     0.529687     0.771338   \n",
       "Total amt            0.599139   1.000000     0.192850    -0.045497   \n",
       "Time(weeks)          0.529687   0.192850     1.000000     0.502188   \n",
       "Amt_Paid(%)          0.771338  -0.045497     0.502188     1.000000   \n",
       "Amt_paid/week(app.)  0.055664   0.278391    -0.729501    -0.146978   \n",
       "amt_paid/week(%)    -0.009214  -0.067935    -0.819875     0.048942   \n",
       "avg_amt_paid         0.163889   0.335637    -0.705671    -0.053641   \n",
       "\n",
       "                     Amt_paid/week(app.)  amt_paid/week(%)  avg_amt_paid  \n",
       "Sum_Amt                         0.055664         -0.009214      0.163889  \n",
       "Total amt                       0.278391         -0.067935      0.335637  \n",
       "Time(weeks)                    -0.729501         -0.819875     -0.705671  \n",
       "Amt_Paid(%)                    -0.146978          0.048942     -0.053641  \n",
       "Amt_paid/week(app.)             1.000000          0.862059      0.982120  \n",
       "amt_paid/week(%)                0.862059          1.000000      0.891707  \n",
       "avg_amt_paid                    0.982120          0.891707      1.000000  "
      ]
     },
     "execution_count": 16,
     "metadata": {},
     "output_type": "execute_result"
    }
   ],
   "source": [
    "df.corr()"
   ]
  },
  {
   "cell_type": "code",
   "execution_count": 17,
   "id": "9da34a66",
   "metadata": {},
   "outputs": [
    {
     "data": {
      "text/plain": [
       "<AxesSubplot:>"
      ]
     },
     "execution_count": 17,
     "metadata": {},
     "output_type": "execute_result"
    },
    {
     "data": {
      "image/png": "[encoded data removed]",
      "text/plain": [
       "<Figure size 432x288 with 2 Axes>"
      ]
     },
     "metadata": {
      "needs_background": "light"
     },
     "output_type": "display_data"
    }
   ],
   "source": [
    "sns.heatmap(df.corr())"
   ]
  },
  {
   "cell_type": "code",
   "execution_count": 19,
   "id": "f78f84a7",
   "metadata": {},
   "outputs": [
    {
     "data": {
      "text/plain": [
       "<seaborn.axisgrid.PairGrid at 0x22394b6ddf0>"
      ]
     },
     "execution_count": 19,
     "metadata": {},
     "output_type": "execute_result"
    },
    {
     "data": {
      "image/png": "[encoded data removed]",
      "text/plain": [
       "<Figure size 1260x1260 with 56 Axes>"
      ]
     },
     "metadata": {
      "needs_background": "light"
     },
     "output_type": "display_data"
    }
   ],
   "source": [
    "sns.pairplot(df)"
   ]
  },
  {
   "cell_type": "code",
   "execution_count": 25,
   "id": "4f01f6ca",
   "metadata": {},
   "outputs": [
    {
     "data": {
      "text/plain": [
       "<seaborn.axisgrid.JointGrid at 0x223983ae760>"
      ]
     },
     "execution_count": 25,
     "metadata": {},
     "output_type": "execute_result"
    },
    {
     "data": {
      "image/png": "[encoded data removed]",
      "text/plain": [
       "<Figure size 432x432 with 3 Axes>"
      ]
     },
     "metadata": {
      "needs_background": "light"
     },
     "output_type": "display_data"
    }
   ],
   "source": [
    "sns.jointplot(x=\"Time(weeks)\", y=\"Amt_Paid(%)\", data=df)"
   ]
  },
  {
   "cell_type": "code",
   "execution_count": 67,
   "id": "a2ba5152",
   "metadata": {},
   "outputs": [],
   "source": [
    "df=df.drop(labels=[7], axis=0)"
   ]
  },
  {
   "cell_type": "code",
   "execution_count": 68,
   "id": "9714b721",
   "metadata": {},
   "outputs": [
    {
     "data": {
      "text/plain": [
       "(7, 8)"
      ]
     },
     "execution_count": 68,
     "metadata": {},
     "output_type": "execute_result"
    }
   ],
   "source": [
    "df.shape"
   ]
  },
  {
   "cell_type": "code",
   "execution_count": 69,
   "id": "583093ac",
   "metadata": {
    "scrolled": true
   },
   "outputs": [
    {
     "data": {
      "text/plain": [
       "<AxesSubplot:xlabel='CustomerID', ylabel='Amt_paid/week(app.)'>"
      ]
     },
     "execution_count": 69,
     "metadata": {},
     "output_type": "execute_result"
    },
    {
     "data": {
      "image/png": "[encoded data removed]",
      "text/plain": [
       "<Figure size 432x288 with 1 Axes>"
      ]
     },
     "metadata": {
      "needs_background": "light"
     },
     "output_type": "display_data"
    }
   ],
   "source": [
    "sns.barplot(x='CustomerID', y='Amt_paid/week(app.)', data=df)"
   ]
  },
  {
   "cell_type": "code",
   "execution_count": 71,
   "id": "d7ea36ee",
   "metadata": {},
   "outputs": [
    {
     "data": {
      "text/plain": [
       "<AxesSubplot:xlabel='CustomerID', ylabel='amt_paid/week(%)'>"
      ]
     },
     "execution_count": 71,
     "metadata": {},
     "output_type": "execute_result"
    },
    {
     "data": {
      "image/png": "[encoded data removed]",
      "text/plain": [
       "<Figure size 432x288 with 1 Axes>"
      ]
     },
     "metadata": {
      "needs_background": "light"
     },
     "output_type": "display_data"
    }
   ],
   "source": [
    "sns.barplot(x='CustomerID', y='amt_paid/week(%)', data=df)"
   ]
  },
  {
   "cell_type": "code",
   "execution_count": 74,
   "id": "dfac95a3",
   "metadata": {
    "scrolled": true
   },
   "outputs": [
    {
     "data": {
      "text/plain": [
       "<AxesSubplot:xlabel='Amt_Paid(%)'>"
      ]
     },
     "execution_count": 74,
     "metadata": {},
     "output_type": "execute_result"
    },
    {
     "data": {
      "image/png": "[encoded data removed]",
      "text/plain": [
       "<Figure size 432x288 with 1 Axes>"
      ]
     },
     "metadata": {
      "needs_background": "light"
     },
     "output_type": "display_data"
    }
   ],
   "source": [
    "sns.distplot(df['Amt_Paid(%)'], kde=False)"
   ]
  },
  {
   "cell_type": "markdown",
   "id": "6847703c",
   "metadata": {},
   "source": [
    "building a logistic regression model"
   ]
  },
  {
   "cell_type": "code",
   "execution_count": 75,
   "id": "174c9d92",
   "metadata": {},
   "outputs": [],
   "source": [
    "df=pd.read_excel('sample_data_for_score (1).xlsx', index_col=\"CustomerID\")"
   ]
  },
  {
   "cell_type": "code",
   "execution_count": 76,
   "id": "7ef54b9c",
   "metadata": {},
   "outputs": [
    {
     "data": {
      "text/html": [
       "<div>\n",
       "<style scoped>\n",
       "    .dataframe tbody tr th:only-of-type {\n",
       "        vertical-align: middle;\n",
       "    }\n",
       "\n",
       "    .dataframe tbody tr th {\n",
       "        vertical-align: top;\n",
       "    }\n",
       "\n",
       "    .dataframe thead th {\n",
       "        text-align: right;\n",
       "    }\n",
       "</style>\n",
       "<table border=\"1\" class=\"dataframe\">\n",
       "  <thead>\n",
       "    <tr style=\"text-align: right;\">\n",
       "      <th></th>\n",
       "      <th>Sum_Amt</th>\n",
       "      <th>Total amt</th>\n",
       "      <th>Time(weeks)</th>\n",
       "      <th>Amt_Paid(%)</th>\n",
       "      <th>Amt_paid/week(app.)</th>\n",
       "      <th>amt_paid/week(%)</th>\n",
       "      <th>avg_amt_paid</th>\n",
       "    </tr>\n",
       "    <tr>\n",
       "      <th>CustomerID</th>\n",
       "      <th></th>\n",
       "      <th></th>\n",
       "      <th></th>\n",
       "      <th></th>\n",
       "      <th></th>\n",
       "      <th></th>\n",
       "      <th></th>\n",
       "    </tr>\n",
       "  </thead>\n",
       "  <tbody>\n",
       "    <tr>\n",
       "      <th>2200</th>\n",
       "      <td>14864.00</td>\n",
       "      <td>90000.0</td>\n",
       "      <td>3.0</td>\n",
       "      <td>16.515556</td>\n",
       "      <td>825.776667</td>\n",
       "      <td>5.505185</td>\n",
       "      <td>2477.330</td>\n",
       "    </tr>\n",
       "    <tr>\n",
       "      <th>2218</th>\n",
       "      <td>5800.00</td>\n",
       "      <td>80000.0</td>\n",
       "      <td>2.0</td>\n",
       "      <td>7.250000</td>\n",
       "      <td>483.333500</td>\n",
       "      <td>3.625000</td>\n",
       "      <td>966.667</td>\n",
       "    </tr>\n",
       "    <tr>\n",
       "      <th>2251</th>\n",
       "      <td>15910.00</td>\n",
       "      <td>140000.0</td>\n",
       "      <td>6.0</td>\n",
       "      <td>11.364286</td>\n",
       "      <td>155.980333</td>\n",
       "      <td>1.894048</td>\n",
       "      <td>935.882</td>\n",
       "    </tr>\n",
       "    <tr>\n",
       "      <th>2262</th>\n",
       "      <td>16788.16</td>\n",
       "      <td>95000.0</td>\n",
       "      <td>7.0</td>\n",
       "      <td>17.671747</td>\n",
       "      <td>47.966143</td>\n",
       "      <td>2.524535</td>\n",
       "      <td>335.763</td>\n",
       "    </tr>\n",
       "    <tr>\n",
       "      <th>2263</th>\n",
       "      <td>13193.00</td>\n",
       "      <td>100000.0</td>\n",
       "      <td>6.0</td>\n",
       "      <td>13.193000</td>\n",
       "      <td>61.078667</td>\n",
       "      <td>2.198833</td>\n",
       "      <td>366.472</td>\n",
       "    </tr>\n",
       "  </tbody>\n",
       "</table>\n",
       "</div>"
      ],
      "text/plain": [
       "             Sum_Amt  Total amt  Time(weeks)  Amt_Paid(%)  \\\n",
       "CustomerID                                                  \n",
       "2200        14864.00    90000.0          3.0    16.515556   \n",
       "2218         5800.00    80000.0          2.0     7.250000   \n",
       "2251        15910.00   140000.0          6.0    11.364286   \n",
       "2262        16788.16    95000.0          7.0    17.671747   \n",
       "2263        13193.00   100000.0          6.0    13.193000   \n",
       "\n",
       "            Amt_paid/week(app.)  amt_paid/week(%)  avg_amt_paid  \n",
       "CustomerID                                                       \n",
       "2200                 825.776667          5.505185      2477.330  \n",
       "2218                 483.333500          3.625000       966.667  \n",
       "2251                 155.980333          1.894048       935.882  \n",
       "2262                  47.966143          2.524535       335.763  \n",
       "2263                  61.078667          2.198833       366.472  "
      ]
     },
     "execution_count": 76,
     "metadata": {},
     "output_type": "execute_result"
    }
   ],
   "source": [
    "df.head()"
   ]
  },
  {
   "cell_type": "code",
   "execution_count": 78,
   "id": "3148270b",
   "metadata": {},
   "outputs": [],
   "source": [
    "df=df.drop(labels=['Grand Total'], axis=0)"
   ]
  },
  {
   "cell_type": "code",
   "execution_count": 80,
   "id": "4599648e",
   "metadata": {},
   "outputs": [
    {
     "data": {
      "text/plain": [
       "(7, 7)"
      ]
     },
     "execution_count": 80,
     "metadata": {},
     "output_type": "execute_result"
    }
   ],
   "source": [
    "df.shape"
   ]
  },
  {
   "cell_type": "code",
   "execution_count": 81,
   "id": "dea9a34f",
   "metadata": {},
   "outputs": [
    {
     "data": {
      "text/html": [
       "<div>\n",
       "<style scoped>\n",
       "    .dataframe tbody tr th:only-of-type {\n",
       "        vertical-align: middle;\n",
       "    }\n",
       "\n",
       "    .dataframe tbody tr th {\n",
       "        vertical-align: top;\n",
       "    }\n",
       "\n",
       "    .dataframe thead th {\n",
       "        text-align: right;\n",
       "    }\n",
       "</style>\n",
       "<table border=\"1\" class=\"dataframe\">\n",
       "  <thead>\n",
       "    <tr style=\"text-align: right;\">\n",
       "      <th></th>\n",
       "      <th>Sum_Amt</th>\n",
       "      <th>Total amt</th>\n",
       "      <th>Time(weeks)</th>\n",
       "      <th>Amt_Paid(%)</th>\n",
       "      <th>Amt_paid/week(app.)</th>\n",
       "      <th>amt_paid/week(%)</th>\n",
       "      <th>avg_amt_paid</th>\n",
       "    </tr>\n",
       "  </thead>\n",
       "  <tbody>\n",
       "    <tr>\n",
       "      <th>Sum_Amt</th>\n",
       "      <td>1.000000</td>\n",
       "      <td>0.599139</td>\n",
       "      <td>0.529687</td>\n",
       "      <td>0.771338</td>\n",
       "      <td>0.055664</td>\n",
       "      <td>-0.009214</td>\n",
       "      <td>0.163889</td>\n",
       "    </tr>\n",
       "    <tr>\n",
       "      <th>Total amt</th>\n",
       "      <td>0.599139</td>\n",
       "      <td>1.000000</td>\n",
       "      <td>0.192850</td>\n",
       "      <td>-0.045497</td>\n",
       "      <td>0.278391</td>\n",
       "      <td>-0.067935</td>\n",
       "      <td>0.335637</td>\n",
       "    </tr>\n",
       "    <tr>\n",
       "      <th>Time(weeks)</th>\n",
       "      <td>0.529687</td>\n",
       "      <td>0.192850</td>\n",
       "      <td>1.000000</td>\n",
       "      <td>0.502188</td>\n",
       "      <td>-0.729501</td>\n",
       "      <td>-0.819875</td>\n",
       "      <td>-0.705671</td>\n",
       "    </tr>\n",
       "    <tr>\n",
       "      <th>Amt_Paid(%)</th>\n",
       "      <td>0.771338</td>\n",
       "      <td>-0.045497</td>\n",
       "      <td>0.502188</td>\n",
       "      <td>1.000000</td>\n",
       "      <td>-0.146978</td>\n",
       "      <td>0.048942</td>\n",
       "      <td>-0.053641</td>\n",
       "    </tr>\n",
       "    <tr>\n",
       "      <th>Amt_paid/week(app.)</th>\n",
       "      <td>0.055664</td>\n",
       "      <td>0.278391</td>\n",
       "      <td>-0.729501</td>\n",
       "      <td>-0.146978</td>\n",
       "      <td>1.000000</td>\n",
       "      <td>0.862059</td>\n",
       "      <td>0.982120</td>\n",
       "    </tr>\n",
       "    <tr>\n",
       "      <th>amt_paid/week(%)</th>\n",
       "      <td>-0.009214</td>\n",
       "      <td>-0.067935</td>\n",
       "      <td>-0.819875</td>\n",
       "      <td>0.048942</td>\n",
       "      <td>0.862059</td>\n",
       "      <td>1.000000</td>\n",
       "      <td>0.891707</td>\n",
       "    </tr>\n",
       "    <tr>\n",
       "      <th>avg_amt_paid</th>\n",
       "      <td>0.163889</td>\n",
       "      <td>0.335637</td>\n",
       "      <td>-0.705671</td>\n",
       "      <td>-0.053641</td>\n",
       "      <td>0.982120</td>\n",
       "      <td>0.891707</td>\n",
       "      <td>1.000000</td>\n",
       "    </tr>\n",
       "  </tbody>\n",
       "</table>\n",
       "</div>"
      ],
      "text/plain": [
       "                      Sum_Amt  Total amt  Time(weeks)  Amt_Paid(%)  \\\n",
       "Sum_Amt              1.000000   0.599139     0.529687     0.771338   \n",
       "Total amt            0.599139   1.000000     0.192850    -0.045497   \n",
       "Time(weeks)          0.529687   0.192850     1.000000     0.502188   \n",
       "Amt_Paid(%)          0.771338  -0.045497     0.502188     1.000000   \n",
       "Amt_paid/week(app.)  0.055664   0.278391    -0.729501    -0.146978   \n",
       "amt_paid/week(%)    -0.009214  -0.067935    -0.819875     0.048942   \n",
       "avg_amt_paid         0.163889   0.335637    -0.705671    -0.053641   \n",
       "\n",
       "                     Amt_paid/week(app.)  amt_paid/week(%)  avg_amt_paid  \n",
       "Sum_Amt                         0.055664         -0.009214      0.163889  \n",
       "Total amt                       0.278391         -0.067935      0.335637  \n",
       "Time(weeks)                    -0.729501         -0.819875     -0.705671  \n",
       "Amt_Paid(%)                    -0.146978          0.048942     -0.053641  \n",
       "Amt_paid/week(app.)             1.000000          0.862059      0.982120  \n",
       "amt_paid/week(%)                0.862059          1.000000      0.891707  \n",
       "avg_amt_paid                    0.982120          0.891707      1.000000  "
      ]
     },
     "execution_count": 81,
     "metadata": {},
     "output_type": "execute_result"
    }
   ],
   "source": [
    "df.corr(method='pearson')"
   ]
  },
  {
   "cell_type": "code",
   "execution_count": 85,
   "id": "379f5dd4",
   "metadata": {},
   "outputs": [],
   "source": [
    "import matplotlib.pyplot as plt\n",
    "%matplotlib inline"
   ]
  },
  {
   "cell_type": "code",
   "execution_count": 86,
   "id": "c45bea40",
   "metadata": {},
   "outputs": [],
   "source": [
    "import statistics"
   ]
  },
  {
   "cell_type": "code",
   "execution_count": 87,
   "id": "3696aa4e",
   "metadata": {},
   "outputs": [],
   "source": [
    "def avr(lst):\n",
    "    s=sum(lst)\n",
    "    n=len(lst)\n",
    "    return s/n "
   ]
  },
  {
   "cell_type": "code",
   "execution_count": 90,
   "id": "a934d4ad",
   "metadata": {},
   "outputs": [
    {
     "data": {
      "text/plain": [
       "3.4279430679874285"
      ]
     },
     "execution_count": 90,
     "metadata": {},
     "output_type": "execute_result"
    }
   ],
   "source": [
    "a1= avr(df['amt_paid/week(%)'])\n",
    "a1"
   ]
  },
  {
   "cell_type": "code",
   "execution_count": 91,
   "id": "6c6839d3",
   "metadata": {},
   "outputs": [
    {
     "data": {
      "text/plain": [
       "1.6135055142554147"
      ]
     },
     "execution_count": 91,
     "metadata": {},
     "output_type": "execute_result"
    }
   ],
   "source": [
    "a2=statistics.stdev(df['amt_paid/week(%)'])\n",
    "a2"
   ]
  },
  {
   "cell_type": "code",
   "execution_count": 93,
   "id": "7cff8487",
   "metadata": {},
   "outputs": [
    {
     "name": "stdout",
     "output_type": "stream",
     "text": [
      "5.041448582242843\n"
     ]
    }
   ],
   "source": [
    "x1= a1+a2\n",
    "print(x1)"
   ]
  },
  {
   "cell_type": "markdown",
   "id": "ae669603",
   "metadata": {},
   "source": [
    "## giving repayment score out of 100."
   ]
  },
  {
   "cell_type": "markdown",
   "id": "2f7531e3",
   "metadata": {},
   "source": [
    "#### taking average as 50 score points and (Avg+standard dev) = 75 points and (Avg-standard dev) = 25 points respectively"
   ]
  },
  {
   "cell_type": "code",
   "execution_count": 98,
   "id": "0c572838",
   "metadata": {},
   "outputs": [],
   "source": [
    "(x1,y1)=(5.041448582242843, 75)\n",
    "(x2,y2)=(a1,50)\n",
    "slope = (y2-y1)/(x2-x1)"
   ]
  },
  {
   "cell_type": "code",
   "execution_count": 103,
   "id": "38dfbf91",
   "metadata": {},
   "outputs": [
    {
     "name": "stdout",
     "output_type": "stream",
     "text": [
      "15.494214168543927\n"
     ]
    }
   ],
   "source": [
    "m=slope\n",
    "print(m)"
   ]
  },
  {
   "cell_type": "code",
   "execution_count": 102,
   "id": "1d040efb",
   "metadata": {},
   "outputs": [
    {
     "name": "stdout",
     "output_type": "stream",
     "text": [
      "-3.113284052972759\n"
     ]
    }
   ],
   "source": [
    "c = y1- (slope*(x1))\n",
    "print(c)"
   ]
  },
  {
   "cell_type": "code",
   "execution_count": 104,
   "id": "801ecdbe",
   "metadata": {},
   "outputs": [],
   "source": [
    "### defining function\n",
    "def score(x):\n",
    "    y= m*(x)+c\n",
    "    return y"
   ]
  },
  {
   "cell_type": "code",
   "execution_count": 105,
   "id": "50427dd0",
   "metadata": {},
   "outputs": [
    {
     "data": {
      "text/plain": [
       "CustomerID\n",
       "2200    82.185234\n",
       "2218    53.053242\n",
       "2251    26.233495\n",
       "2262    36.002407\n",
       "2263    30.955911\n",
       "2266    34.816552\n",
       "2267    86.753158\n",
       "Name: amt_paid/week(%), dtype: float64"
      ]
     },
     "execution_count": 105,
     "metadata": {},
     "output_type": "execute_result"
    }
   ],
   "source": [
    "## scores of each customer..\n",
    "score(df['amt_paid/week(%)'])"
   ]
  },
  {
   "cell_type": "code",
   "execution_count": null,
   "id": "c56fa6e5",
   "metadata": {},
   "outputs": [],
   "source": []
  }
 ],
 "metadata": {
  "kernelspec": {
   "display_name": "Python 3",
   "language": "python",
   "name": "python3"
  },
  "language_info": {
   "codemirror_mode": {
    "name": "ipython",
    "version": 3
   },
   "file_extension": ".py",
   "mimetype": "text/x-python",
   "name": "python",
   "nbconvert_exporter": "python",
   "pygments_lexer": "ipython3",
   "version": "3.8.8"
  }
 },
 "nbformat": 4,
 "nbformat_minor": 5
}
